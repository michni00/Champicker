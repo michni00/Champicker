{
 "cells": [
  {
   "cell_type": "code",
   "execution_count": 42,
   "id": "26cf0e61-f1b0-46a6-9899-424c6d7244a1",
   "metadata": {},
   "outputs": [],
   "source": [
    "import requests\n",
    "import pandas as pd"
   ]
  },
  {
   "cell_type": "code",
   "execution_count": 10,
   "id": "000bf9a1-9a77-4e4c-a284-06c1fa8046e8",
   "metadata": {},
   "outputs": [],
   "source": [
    "url = 'https://ddragon.leagueoflegends.com/api/versions.json'\n",
    "response = requests.get(url)\n",
    "latest_version = response.json()[0]\n",
    "url_2 = f'https://ddragon.leagueoflegends.com/cdn/{latest_version}/data/en_US/champion.json'\n",
    "response_2 = requests.get(url_2)\n",
    "all_champions = list(response_2.json()['data'].values())\n",
    "champion_names, champion_ids = [], []\n",
    "for champion in all_champions:\n",
    "    champion_names.append(champion['name'])\n",
    "    champion_ids.append(champion['key'])\n",
    "columns = {'Champion_Name': champion_names, 'Champion_IDs': champion_ids}\n",
    "summary = pd.DataFrame(data = columns)\n",
    "summary.to_csv('champion_names_ids.csv')"
   ]
  }
 ],
 "metadata": {
  "kernelspec": {
   "display_name": "Python 3 (ipykernel)",
   "language": "python",
   "name": "python3"
  },
  "language_info": {
   "codemirror_mode": {
    "name": "ipython",
    "version": 3
   },
   "file_extension": ".py",
   "mimetype": "text/x-python",
   "name": "python",
   "nbconvert_exporter": "python",
   "pygments_lexer": "ipython3",
   "version": "3.12.1"
  }
 },
 "nbformat": 4,
 "nbformat_minor": 5
}
