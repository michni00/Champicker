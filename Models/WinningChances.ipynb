{
 "cells": [
  {
   "cell_type": "code",
   "execution_count": 5,
   "id": "22a48aac-3af3-4f99-8c0a-e2278355e340",
   "metadata": {},
   "outputs": [],
   "source": [
    "import pandas as pd\n",
    "import numpy as np\n",
    "from sklearn.model_selection import train_test_split\n",
    "from sklearn.linear_model import LinearRegression, Ridge, Lasso\n",
    "import matplotlib.pyplot as plt\n",
    "from sklearn.preprocessing import StandardScaler\n",
    "from sklearn.metrics import accuracy_score, classification_report, mean_squared_error, r2_score\n",
    "from sklearn.tree import DecisionTreeRegressor\n",
    "from sklearn.ensemble import RandomForestRegressor, GradientBoostingRegressor\n",
    "from sklearn.svm import SVR"
   ]
  },
  {
   "cell_type": "code",
   "execution_count": 24,
   "id": "dfb351f3-9703-43ac-bede-ae0150221ce5",
   "metadata": {},
   "outputs": [],
   "source": [
    "data = pd.read_csv('dataset.csv', index_col=0)"
   ]
  },
  {
   "cell_type": "code",
   "execution_count": 25,
   "id": "81536072-06e7-4972-8a4c-7537b721c587",
   "metadata": {},
   "outputs": [],
   "source": [
    "y = data['Red_Win'].astype(int).tolist()"
   ]
  },
  {
   "cell_type": "code",
   "execution_count": 26,
   "id": "2623cb2b-02f5-43a0-a6b4-aaaae044b7fc",
   "metadata": {},
   "outputs": [
    {
     "data": {
      "text/plain": [
       "Red_Win           0\n",
       "Blue_Win          0\n",
       "Red_Champions     0\n",
       "Blue_Champions    0\n",
       "dtype: int64"
      ]
     },
     "execution_count": 26,
     "metadata": {},
     "output_type": "execute_result"
    }
   ],
   "source": [
    "data.isnull().sum()"
   ]
  },
  {
   "cell_type": "code",
   "execution_count": 27,
   "id": "ef812621-c085-49a3-948e-653a11186de9",
   "metadata": {},
   "outputs": [],
   "source": [
    "temp_data = data[['Red_Champions','Blue_Champions']].to_numpy()"
   ]
  },
  {
   "cell_type": "code",
   "execution_count": 28,
   "id": "1bce80f7-e48d-455d-8f6d-ca40be83f582",
   "metadata": {},
   "outputs": [],
   "source": [
    "X = []\n",
    "for sublist in temp_data:\n",
    "    concatenated_list = eval(sublist[0]) + eval(sublist[1])\n",
    "    X.append(concatenated_list)"
   ]
  },
  {
   "cell_type": "code",
   "execution_count": 29,
   "id": "3c05741c-d912-45c3-9ae0-e92c3dd01682",
   "metadata": {},
   "outputs": [],
   "source": [
    "X_train, X_test, y_train, y_test = train_test_split(X, y, test_size=0.2, random_state=42, stratify=y)"
   ]
  },
  {
   "cell_type": "code",
   "execution_count": 30,
   "id": "02886ace-1361-4f29-ba83-685a26b1fdc1",
   "metadata": {},
   "outputs": [
    {
     "name": "stdout",
     "output_type": "stream",
     "text": [
      "\n",
      "Linear Regression:\n",
      "Accuracy: 0.5281409891984082.\n",
      "Mean Squared Error: 0.24922001557281626\n",
      "R-squared: -0.0021038859651543174\n",
      "\n",
      "Ridge Regression:\n",
      "Accuracy: 0.5281409891984082.\n",
      "Mean Squared Error: 0.2492200155694412\n",
      "R-squared: -0.002103885951583395\n",
      "\n",
      "Lasso Regression:\n",
      "Accuracy: 0.5292779988629903.\n",
      "Mean Squared Error: 0.24921455560833403\n",
      "R-squared: -0.002081931662598402\n",
      "\n",
      "Decision Tree Regression:\n",
      "Accuracy: 0.5366685616827743.\n",
      "Mean Squared Error: 0.2538348995047548\n",
      "R-squared: -0.02066015284782985\n",
      "\n",
      "Random Forest Regression:\n",
      "Accuracy: 0.542353610005685.\n",
      "Mean Squared Error: 0.2478763771275908\n",
      "R-squared: 0.003298831405670999\n",
      "\n",
      "Gradient Boosting Regression:\n",
      "Accuracy: 0.527003979533826.\n",
      "Mean Squared Error: 0.25052348923987633\n",
      "R-squared: -0.007345102341824061\n"
     ]
    }
   ],
   "source": [
    "linear_reg = LinearRegression()\n",
    "linear_reg.fit(X_train, y_train)\n",
    "y_pred_linear = linear_reg.predict(X_test)\n",
    "\n",
    "ridge_reg = Ridge(alpha=1.0)\n",
    "ridge_reg.fit(X_train, y_train)\n",
    "y_pred_ridge = ridge_reg.predict(X_test)\n",
    "\n",
    "lasso_reg = Lasso(alpha=0.01)\n",
    "lasso_reg.fit(X_train, y_train)\n",
    "y_pred_lasso = lasso_reg.predict(X_test)\n",
    "\n",
    "tree_reg = DecisionTreeRegressor(max_depth=5)\n",
    "tree_reg.fit(X_train, y_train)\n",
    "y_pred_tree = tree_reg.predict(X_test)\n",
    "\n",
    "forest_reg = RandomForestRegressor(n_estimators=100, max_depth=5)\n",
    "forest_reg.fit(X_train, y_train)\n",
    "y_pred_forest = forest_reg.predict(X_test)\n",
    "\n",
    "gb_reg = GradientBoostingRegressor(n_estimators=100, learning_rate=0.1, max_depth=3)\n",
    "gb_reg.fit(X_train, y_train)\n",
    "y_pred_gb = gb_reg.predict(X_test)\n",
    "\n",
    "\n",
    "models = {\n",
    "    'Linear Regression': y_pred_linear,\n",
    "    'Ridge Regression': y_pred_ridge,\n",
    "    'Lasso Regression': y_pred_lasso,\n",
    "    'Decision Tree Regression': y_pred_tree,\n",
    "    'Random Forest Regression': y_pred_forest,\n",
    "    'Gradient Boosting Regression': y_pred_gb,\n",
    "}\n",
    "\n",
    "for model_name, y_pred in models.items():\n",
    "    mse = mean_squared_error(y_test, y_pred)\n",
    "    r2 = r2_score(y_test, y_pred)\n",
    "    y_pred = np.where(y_pred < 0.5, 0, 1)\n",
    "    print(f\"\\n{model_name}:\")\n",
    "    print(f'Accuracy: {accuracy_score(y_test, y_pred)}.')\n",
    "    print(f\"Mean Squared Error: {mse}\")\n",
    "    print(f\"R-squared: {r2}\")"
   ]
  }
 ],
 "metadata": {
  "kernelspec": {
   "display_name": "Python 3 (ipykernel)",
   "language": "python",
   "name": "python3"
  },
  "language_info": {
   "codemirror_mode": {
    "name": "ipython",
    "version": 3
   },
   "file_extension": ".py",
   "mimetype": "text/x-python",
   "name": "python",
   "nbconvert_exporter": "python",
   "pygments_lexer": "ipython3",
   "version": "3.12.1"
  }
 },
 "nbformat": 4,
 "nbformat_minor": 5
}
