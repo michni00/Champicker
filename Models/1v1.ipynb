{
 "cells": [
  {
   "cell_type": "code",
   "execution_count": 46,
   "id": "0cbf9fdc-3786-4ed3-8da2-653d0325f2cb",
   "metadata": {},
   "outputs": [],
   "source": [
    "import pandas as pd\n",
    "import numpy as np\n",
    "from sklearn.model_selection import train_test_split\n",
    "from sklearn.ensemble import RandomForestRegressor\n",
    "from sklearn.metrics import accuracy_score, classification_report, mean_squared_error, r2_score"
   ]
  },
  {
   "cell_type": "code",
   "execution_count": 3,
   "id": "4cebd029-5ba6-44c6-bf0c-6a3d346160b6",
   "metadata": {},
   "outputs": [],
   "source": [
    "data = pd.read_csv('../datasets/dataset.csv', index_col=0)"
   ]
  },
  {
   "cell_type": "code",
   "execution_count": 126,
   "id": "a80af70a-bc0d-4958-8ed3-54fd79c0c28f",
   "metadata": {},
   "outputs": [
    {
     "data": {
      "text/html": [
       "<div>\n",
       "<style scoped>\n",
       "    .dataframe tbody tr th:only-of-type {\n",
       "        vertical-align: middle;\n",
       "    }\n",
       "\n",
       "    .dataframe tbody tr th {\n",
       "        vertical-align: top;\n",
       "    }\n",
       "\n",
       "    .dataframe thead th {\n",
       "        text-align: right;\n",
       "    }\n",
       "</style>\n",
       "<table border=\"1\" class=\"dataframe\">\n",
       "  <thead>\n",
       "    <tr style=\"text-align: right;\">\n",
       "      <th></th>\n",
       "      <th>Red_Win</th>\n",
       "      <th>Blue_Win</th>\n",
       "      <th>Red_Champions</th>\n",
       "      <th>Blue_Champions</th>\n",
       "    </tr>\n",
       "  </thead>\n",
       "  <tbody>\n",
       "    <tr>\n",
       "      <th>0</th>\n",
       "      <td>False</td>\n",
       "      <td>True</td>\n",
       "      <td>[875, 120, 127, 235, 147]</td>\n",
       "      <td>[24, 56, 161, 22, 432]</td>\n",
       "    </tr>\n",
       "    <tr>\n",
       "      <th>1</th>\n",
       "      <td>False</td>\n",
       "      <td>True</td>\n",
       "      <td>[92, 56, 142, 29, 57]</td>\n",
       "      <td>[166, 35, 30, 21, 497]</td>\n",
       "    </tr>\n",
       "    <tr>\n",
       "      <th>2</th>\n",
       "      <td>True</td>\n",
       "      <td>False</td>\n",
       "      <td>[58, 35, 518, 147, 235]</td>\n",
       "      <td>[122, 245, 777, 429, 117]</td>\n",
       "    </tr>\n",
       "    <tr>\n",
       "      <th>3</th>\n",
       "      <td>True</td>\n",
       "      <td>False</td>\n",
       "      <td>[54, 254, 13, 360, 53]</td>\n",
       "      <td>[92, 234, 127, 51, 163]</td>\n",
       "    </tr>\n",
       "    <tr>\n",
       "      <th>4</th>\n",
       "      <td>True</td>\n",
       "      <td>False</td>\n",
       "      <td>[114, 876, 157, 81, 235]</td>\n",
       "      <td>[420, 79, 34, 29, 57]</td>\n",
       "    </tr>\n",
       "    <tr>\n",
       "      <th>...</th>\n",
       "      <td>...</td>\n",
       "      <td>...</td>\n",
       "      <td>...</td>\n",
       "      <td>...</td>\n",
       "    </tr>\n",
       "    <tr>\n",
       "      <th>8788</th>\n",
       "      <td>True</td>\n",
       "      <td>False</td>\n",
       "      <td>[98, 234, 910, 81, 53]</td>\n",
       "      <td>[10, 203, 50, 110, 43]</td>\n",
       "    </tr>\n",
       "    <tr>\n",
       "      <th>8789</th>\n",
       "      <td>False</td>\n",
       "      <td>True</td>\n",
       "      <td>[36, 107, 246, 21, 40]</td>\n",
       "      <td>[27, 104, 142, 22, 117]</td>\n",
       "    </tr>\n",
       "    <tr>\n",
       "      <th>8790</th>\n",
       "      <td>True</td>\n",
       "      <td>False</td>\n",
       "      <td>[122, 107, 4, 910, 40]</td>\n",
       "      <td>[86, 876, 75, 236, 902]</td>\n",
       "    </tr>\n",
       "    <tr>\n",
       "      <th>8791</th>\n",
       "      <td>False</td>\n",
       "      <td>True</td>\n",
       "      <td>[154, 254, 777, 147, 235]</td>\n",
       "      <td>[266, 234, 67, 115, 22]</td>\n",
       "    </tr>\n",
       "    <tr>\n",
       "      <th>8792</th>\n",
       "      <td>True</td>\n",
       "      <td>False</td>\n",
       "      <td>[24, 56, 84, 895, 235]</td>\n",
       "      <td>[78, 104, 777, 67, 57]</td>\n",
       "    </tr>\n",
       "  </tbody>\n",
       "</table>\n",
       "<p>8793 rows × 4 columns</p>\n",
       "</div>"
      ],
      "text/plain": [
       "      Red_Win  Blue_Win              Red_Champions             Blue_Champions\n",
       "0       False      True  [875, 120, 127, 235, 147]     [24, 56, 161, 22, 432]\n",
       "1       False      True      [92, 56, 142, 29, 57]     [166, 35, 30, 21, 497]\n",
       "2        True     False    [58, 35, 518, 147, 235]  [122, 245, 777, 429, 117]\n",
       "3        True     False     [54, 254, 13, 360, 53]    [92, 234, 127, 51, 163]\n",
       "4        True     False   [114, 876, 157, 81, 235]      [420, 79, 34, 29, 57]\n",
       "...       ...       ...                        ...                        ...\n",
       "8788     True     False     [98, 234, 910, 81, 53]     [10, 203, 50, 110, 43]\n",
       "8789    False      True     [36, 107, 246, 21, 40]    [27, 104, 142, 22, 117]\n",
       "8790     True     False     [122, 107, 4, 910, 40]    [86, 876, 75, 236, 902]\n",
       "8791    False      True  [154, 254, 777, 147, 235]    [266, 234, 67, 115, 22]\n",
       "8792     True     False     [24, 56, 84, 895, 235]     [78, 104, 777, 67, 57]\n",
       "\n",
       "[8793 rows x 4 columns]"
      ]
     },
     "execution_count": 126,
     "metadata": {},
     "output_type": "execute_result"
    }
   ],
   "source": [
    "data"
   ]
  },
  {
   "cell_type": "code",
   "execution_count": 129,
   "id": "5de4131b-a007-4fd4-a18c-2dbc97719afe",
   "metadata": {},
   "outputs": [],
   "source": [
    "y = data['Red_Win'].astype(int).tolist()"
   ]
  },
  {
   "cell_type": "code",
   "execution_count": 38,
   "id": "41d90fb1-2275-4950-a977-94d62993d2df",
   "metadata": {},
   "outputs": [],
   "source": [
    "temp_data = data[['Red_Champions','Blue_Champions']].to_numpy()\n",
    "X = []\n",
    "for sublist in temp_data:\n",
    "    concatenated_list = eval(sublist[0]) + eval(sublist[1])\n",
    "    X.append(concatenated_list)"
   ]
  },
  {
   "cell_type": "code",
   "execution_count": 27,
   "id": "f1483018-ced6-4a2b-b4af-cbb2cf0c30b9",
   "metadata": {},
   "outputs": [],
   "source": [
    "X_top, X_jgl, X_mid, X_bot, X_supp = [], [], [], [], []"
   ]
  },
  {
   "cell_type": "code",
   "execution_count": 40,
   "id": "6e3be6e2-c97e-448d-b68a-26c129b0499e",
   "metadata": {},
   "outputs": [],
   "source": [
    "for row in X:\n",
    "    X_top.append([row[i] for i in (0,5)])\n",
    "    X_jgl.append([row[i] for i in (1,6)])\n",
    "    X_mid.append([row[i] for i in (2,7)])\n",
    "    X_bot.append([row[i] for i in (3,8)])\n",
    "    X_supp.append([row[i] for i in (4,9)])"
   ]
  },
  {
   "cell_type": "code",
   "execution_count": 101,
   "id": "27222353-4ff9-4e0c-8ed9-901bf049cd97",
   "metadata": {},
   "outputs": [],
   "source": [
    "X_train, X_test, y_train, y_test = train_test_split(X_top, y, test_size=0.05, random_state=42, stratify=y)"
   ]
  },
  {
   "cell_type": "code",
   "execution_count": 102,
   "id": "e1a15504-1563-4b92-8a5f-d840c92b8337",
   "metadata": {},
   "outputs": [],
   "source": [
    "forest_reg = RandomForestRegressor(n_estimators=100, max_depth=5)\n",
    "forest_reg.fit(X_train, y_train)\n",
    "y_pred = forest_reg.predict(X_test)"
   ]
  },
  {
   "cell_type": "code",
   "execution_count": 103,
   "id": "f99600dc-972c-4b01-9911-2fdaaa847085",
   "metadata": {},
   "outputs": [
    {
     "name": "stdout",
     "output_type": "stream",
     "text": [
      "Accuracy: 0.5409090909090909.\n",
      "Mean Squared Error: 0.24775552618145058\n"
     ]
    }
   ],
   "source": [
    "mse = mean_squared_error(y_test, y_pred)\n",
    "r2 = r2_score(y_test, y_pred)\n",
    "y_pred = np.where(y_pred < 0.5, 0, 1)\n",
    "print(f'Accuracy: {accuracy_score(y_test, y_pred)}.')\n",
    "print(f\"Mean Squared Error: {mse}\")"
   ]
  },
  {
   "cell_type": "code",
   "execution_count": 130,
   "id": "d39b64b5-5aed-4dc0-987e-c0936ad638b7",
   "metadata": {},
   "outputs": [],
   "source": [
    "#0 if left loses\n",
    "#1 if left wins"
   ]
  },
  {
   "cell_type": "code",
   "execution_count": 157,
   "id": "846c9d32-18be-4827-87f2-886bd7c59968",
   "metadata": {},
   "outputs": [
    {
     "data": {
      "text/plain": [
       "array([0.45388645])"
      ]
     },
     "execution_count": 157,
     "metadata": {},
     "output_type": "execute_result"
    }
   ],
   "source": [
    "sample = np.array([67, 86])\n",
    "sample_reshaped = sample.reshape(1, -1)\n",
    "y_pred = forest_reg.predict(sample_reshaped)\n",
    "# y_pred = np.where(y_pred < 0.5, 0, 1)\n",
    "y_pred"
   ]
  }
 ],
 "metadata": {
  "kernelspec": {
   "display_name": "Python 3 (ipykernel)",
   "language": "python",
   "name": "python3"
  },
  "language_info": {
   "codemirror_mode": {
    "name": "ipython",
    "version": 3
   },
   "file_extension": ".py",
   "mimetype": "text/x-python",
   "name": "python",
   "nbconvert_exporter": "python",
   "pygments_lexer": "ipython3",
   "version": "3.12.1"
  }
 },
 "nbformat": 4,
 "nbformat_minor": 5
}
